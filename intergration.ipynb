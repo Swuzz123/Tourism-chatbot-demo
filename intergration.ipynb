{
 "cells": [
  {
   "cell_type": "code",
   "execution_count": 1,
   "id": "3f3f7eba",
   "metadata": {},
   "outputs": [
    {
     "name": "stderr",
     "output_type": "stream",
     "text": [
      "d:\\Workspace\\RAG\\Chatbot tourism\\.venv\\Lib\\site-packages\\google\\protobuf\\runtime_version.py:98: UserWarning: Protobuf gencode version 5.27.2 is exactly one major version older than the runtime version 6.31.1 at schema.proto. Please update the gencode to avoid compatibility violations in the next runtime release.\n",
      "  warnings.warn(\n",
      "d:\\Workspace\\RAG\\Chatbot tourism\\.venv\\Lib\\site-packages\\google\\protobuf\\runtime_version.py:98: UserWarning: Protobuf gencode version 5.27.2 is exactly one major version older than the runtime version 6.31.1 at common.proto. Please update the gencode to avoid compatibility violations in the next runtime release.\n",
      "  warnings.warn(\n",
      "d:\\Workspace\\RAG\\Chatbot tourism\\.venv\\Lib\\site-packages\\google\\protobuf\\runtime_version.py:98: UserWarning: Protobuf gencode version 5.27.2 is exactly one major version older than the runtime version 6.31.1 at milvus.proto. Please update the gencode to avoid compatibility violations in the next runtime release.\n",
      "  warnings.warn(\n",
      "d:\\Workspace\\RAG\\Chatbot tourism\\.venv\\Lib\\site-packages\\google\\protobuf\\runtime_version.py:98: UserWarning: Protobuf gencode version 5.27.2 is exactly one major version older than the runtime version 6.31.1 at rg.proto. Please update the gencode to avoid compatibility violations in the next runtime release.\n",
      "  warnings.warn(\n",
      "d:\\Workspace\\RAG\\Chatbot tourism\\.venv\\Lib\\site-packages\\google\\protobuf\\runtime_version.py:98: UserWarning: Protobuf gencode version 5.27.2 is exactly one major version older than the runtime version 6.31.1 at feder.proto. Please update the gencode to avoid compatibility violations in the next runtime release.\n",
      "  warnings.warn(\n",
      "d:\\Workspace\\RAG\\Chatbot tourism\\.venv\\Lib\\site-packages\\google\\protobuf\\runtime_version.py:98: UserWarning: Protobuf gencode version 5.27.2 is exactly one major version older than the runtime version 6.31.1 at msg.proto. Please update the gencode to avoid compatibility violations in the next runtime release.\n",
      "  warnings.warn(\n"
     ]
    }
   ],
   "source": [
    "import os\n",
    "import pandas as pd\n",
    "from dotenv import load_dotenv\n",
    "from langchain_google_genai import GoogleGenerativeAIEmbeddings\n",
    "from pymilvus import connections, Collection, utility"
   ]
  },
  {
   "cell_type": "code",
   "execution_count": 2,
   "id": "87cbf059",
   "metadata": {},
   "outputs": [],
   "source": [
    "load_dotenv()\n",
    "os.environ['GOOGLE_API_KEY'] = os.getenv('GOOGLE_API_KEY')"
   ]
  },
  {
   "cell_type": "code",
   "execution_count": null,
   "id": "16f13350",
   "metadata": {},
   "outputs": [
    {
     "name": "stdout",
     "output_type": "stream",
     "text": [
      "Connected to Milvus server\n"
     ]
    }
   ],
   "source": [
    "connections.connect(host=\"localhost\", port=\"19530\")\n",
    "print(\"Connected to Milvus server\")"
   ]
  },
  {
   "cell_type": "code",
   "execution_count": null,
   "id": "d040a03c",
   "metadata": {},
   "outputs": [],
   "source": [
    "# Check collection\n",
    "COLLECTION_NAME = \"tourism_search\"\n",
    "if not utility.has_collection(COLLECTION_NAME):\n",
    "    print(f\"Collection {COLLECTION_NAME} does not exist\")\n",
    "    exit(1)"
   ]
  },
  {
   "cell_type": "code",
   "execution_count": null,
   "id": "2d62d908",
   "metadata": {},
   "outputs": [],
   "source": [
    "# Create embedding function\n",
    "def emb_texts(texts):\n",
    "    embed_model = GoogleGenerativeAIEmbeddings(\n",
    "        model=\"models/embedding-001\",\n",
    "        task_type=\"RETRIEVAL_DOCUMENT\"\n",
    "    )\n",
    "    embeddings = embed_model.embed_documents(texts)\n",
    "    return embeddings"
   ]
  },
  {
   "cell_type": "code",
   "execution_count": 6,
   "id": "5da91689",
   "metadata": {},
   "outputs": [
    {
     "name": "stdout",
     "output_type": "stream",
     "text": [
      "Loaded collection tourism_search\n"
     ]
    }
   ],
   "source": [
    "collection = Collection(COLLECTION_NAME)\n",
    "collection.load()\n",
    "print(f\"Loaded collection {COLLECTION_NAME}\")"
   ]
  },
  {
   "cell_type": "code",
   "execution_count": null,
   "id": "4f3a357e",
   "metadata": {},
   "outputs": [
    {
     "name": "stdout",
     "output_type": "stream",
     "text": [
      "Top matching destinations:\n",
      "ID: 85\n",
      "Destination: Vasco da Gama\n",
      "State: Goa\n",
      "Description: A major port city known for its shipbuilding and beaches.\n",
      "TouristAttractions: Bogmalo Beach, Japanese Garden, St. Andrew's Church.\n",
      "Activities: Enjoy water sports and sunbathing at the beaches. Visit spice plantations and attend cooking classes. Explore the city's Portuguese colonial heritage. Shop for cashews, spices, and Goan handicrafts. Enjoy nightlife and live music at beach shacks and clubs.\n",
      "Distance: 0.5088\n",
      "--------------------------------------------------\n"
     ]
    }
   ],
   "source": [
    "# Example query\n",
    "query = \"What are the entertaining activates of Vasco da Gama?\" \n",
    "query_embedding = emb_texts([query])[0]\n",
    "\n",
    "# Search top-k destinations\n",
    "search_params = {\"metric_type\": \"L2\", \"params\": {\"nprobe\": 10}}\n",
    "results = collection.search(\n",
    "    data=[query_embedding],\n",
    "    anns_field=\"embedding\",\n",
    "    param=search_params,\n",
    "    limit=1,\n",
    "    output_fields=[\"ID\", \"Destination\", \"State\", \"Description\", \"TouristAttractions\", \"Activities\"]\n",
    ")\n",
    "\n",
    "# Print results\n",
    "print(\"Top matching destinations:\")\n",
    "for result in results[0]:\n",
    "    print(f\"ID: {result.entity.get('ID')}\")\n",
    "    print(f\"Destination: {result.entity.get('Destination')}\")\n",
    "    print(f\"State: {result.entity.get('State')}\")\n",
    "    print(f\"Description: {result.entity.get('Description')}\")\n",
    "    print(f\"Tourist Attractions: {result.entity.get('TouristAttractions')}\")\n",
    "    print(f\"Activities: {result.entity.get('Activities')}\")\n",
    "    print(f\"Distance: {result.distance:.4f}\")\n",
    "    print(\"-\" * 50)"
   ]
  },
  {
   "cell_type": "code",
   "execution_count": 10,
   "id": "2df9d429",
   "metadata": {},
   "outputs": [
    {
     "name": "stdout",
     "output_type": "stream",
     "text": [
      "data: [[{'ID': 85, 'distance': 0.508787989616394, 'entity': {'TouristAttractions': \"Bogmalo Beach, Japanese Garden, St. Andrew's Church.\", 'Activities': \"Enjoy water sports and sunbathing at the beaches. Visit spice plantations and attend cooking classes. Explore the city's Portuguese colonial heritage. Shop for cashews, spices, and Goan handicrafts. Enjoy nightlife and live music at beach shacks and clubs.\", 'Destination': 'Vasco da Gama', 'State': 'Goa', 'Description': 'A major port city known for its shipbuilding and beaches.', 'ID': 85}}]]\n"
     ]
    }
   ],
   "source": [
    "print(results)"
   ]
  },
  {
   "cell_type": "code",
   "execution_count": 14,
   "id": "f3a0e1d2",
   "metadata": {},
   "outputs": [],
   "source": [
    "import google.generativeai as genai\n",
    "\n",
    "chat_history = []\n",
    "\n",
    "system_message = (\n",
    "    \"You are a fiendly and knowledageable travel assistant. \"\n",
    "    \"Your answer questions only about destinations, their location (state), descriptions, tourist attractions and and recreational activities during that trip \" \n",
    "    \"based on the provided travel dataset.\"\n",
    "    \"If a query does not have an exact match in the data, provide the closest relevant information available. \"\n",
    "    \"Use a warm, conservational tone, as if you are chatting with someone planning a trip. \"\n",
    "    \"If the user asks about topics unrelated to travel or outside the dataset, report with: \"\n",
    "    \"'I can only provide answers related to the travel destination I know about, specifically tourist spots in India.'\"\n",
    ")"
   ]
  },
  {
   "cell_type": "code",
   "execution_count": null,
   "id": "28fa7fb4",
   "metadata": {},
   "outputs": [],
   "source": [
    "def generate_answer(system_message, chat_history, prompt):\n",
    "    genai.configure(api_key=os.getenv(\"GOOGLE_API_KEY\"))\n",
    "    model = genai.GenerativeModel('gemini-1.5-flash')\n",
    "    \n",
    "    # Append the prompt to chat history\n",
    "    chat_history.append(f\"User: {prompt}\")\n",
    "    if len(chat_history) > 10:              # Historical limit of 5 entries (User + Assistant)\n",
    "        chat_history = chat_history[-10:]\n",
    "    \n",
    "    # Combine system message to chat history\n",
    "    full_prompt = f\"{system_message}\\n\\n\" + \"\\n\".join(chat_history) + \"\\nAssistant:\"\n",
    "    \n",
    "    # Generate response\n",
    "    response = model.generate_content(full_prompt).text\n",
    "    chat_history.append(f\"Assistant: {response}\")\n",
    "    \n",
    "    print(\"Chat history:\", chat_history)\n",
    "    return response"
   ]
  },
  {
   "cell_type": "code",
   "execution_count": null,
   "id": "0d662b61",
   "metadata": {},
   "outputs": [],
   "source": [
    "def get_relevant_chunk(query, collection):\n",
    "    \n",
    "    # Generate embedding for the query\n",
    "    query_embedding = emb_texts([query])[0]\n",
    "    \n",
    "    # Search by top-k\n",
    "    search_params = {\"metric_type\": \"L2\", \"params\": {\"nprobe\": 10}}\n",
    "    results = collection.search(\n",
    "        data=[query_embedding],\n",
    "        anns_field=\"embedding\",\n",
    "        param=search_params,\n",
    "        limit=1,\n",
    "        output_fields=[\"Destination\", \"State\", \"Description\", \"TouristAttractions\", \"Activities\"]\n",
    "    )\n",
    "    \n",
    "    if results and len(results[0]) > 0:\n",
    "        result = results[0][0]  # Lấy entity đầu tiên\n",
    "        context = (\n",
    "            f\"Destination: {result.entity.get('Destination')}\\n\"\n",
    "            f\"State: {result.entity.get('State')}\\n\"\n",
    "            f\"Description: {result.entity.get('Description')}\\n\"\n",
    "            f\"Tourist Attractions: {result.entity.get('TouristAttractions')}\\n\"\n",
    "            f\"Activities: {result.entity.get('Activities')}\"\n",
    "        )\n",
    "        return context\n",
    "    else:\n",
    "        return \"No relevant search found in the dataset.\"\n",
    "    \n",
    "def make_prompt(query, context):\n",
    "    return f\"Query: {query}\\n\\nContext:\\n{context}\\n\\Answer: Please provide a warm, conversational response focusing on recreational activities if asked, using the context provided.\""
   ]
  },
  {
   "cell_type": "code",
   "execution_count": 26,
   "id": "8750d1a7",
   "metadata": {},
   "outputs": [
    {
     "name": "stdout",
     "output_type": "stream",
     "text": [
      "Chat history: [\"User: Query: What are the entertaining activities in Vasco da Gama?\\n\\nContext:\\nDestination: Vasco da Gama\\nState: Goa\\nDescription: A major port city known for its shipbuilding and beaches.\\nTourist Attractions: Bogmalo Beach, Japanese Garden, St. Andrew's Church.\\nActivities: Enjoy water sports and sunbathing at the beaches. Visit spice plantations and attend cooking classes. Explore the city's Portuguese colonial heritage. Shop for cashews, spices, and Goan handicrafts. Enjoy nightlife and live music at beach shacks and clubs.\\n\\\\Answer: Please provide a warm, conversational response focusing on recreational activities if asked, using the context provided.\", \"Assistant: Hey there!  Planning a trip to Vasco da Gama, huh? That sounds fantastic!  Vasco da Gama is a really interesting place in Goa.\\n\\nSo, you're looking for entertaining activities?  Well, you're in luck!  Besides relaxing and soaking up the sun at Bogmalo Beach (which is great for water sports!), you can explore the beautiful Japanese Garden for some peaceful time.  There's also the historical St. Andrew's Church to check out.\\n\\nBeyond that, Vasco da Gama offers a vibrant cultural scene. You can delve into Goa's Portuguese heritage by exploring the city – you'll find lovely architecture and a unique atmosphere.  And of course, no trip to Goa is complete without some serious shopping! You can pick up some delicious cashews, fragrant spices, and beautiful Goan handicrafts.\\n\\nIn the evenings, the beach shacks and clubs come alive with nightlife and live music – perfect for a fun night out.  There are also opportunities to visit spice plantations nearby and even take a Goan cooking class to learn some delicious recipes to take home with you.  \\n\\nLet me know if you have any other questions – I'm happy to help you plan your amazing Vasco da Gama adventure!\\n\", 'User: Query: Tell me about fun things to do in Jaipur.\\n\\nContext:\\nDestination: Jaipur\\nState: Rajasthan\\nDescription: Known as the Pink City, famous for its historic palaces.\\nTourist Attractions: Amber Fort, City Palace, Hawa Mahal, Jantar Mantar, Jal Mahal\\nActivities: Tour the Amber Fort and City Palace, and admire the Hawa Mahal. Shop for traditional Rajasthani crafts at local bazaars. Visit the Jantar Mantar observatory and enjoy an elephant ride. Taste delicious Rajasthani food. Experience traditional Rajasthani culture at Chokhi Dhani.\\n\\\\Answer: Please provide a warm, conversational response focusing on recreational activities if asked, using the context provided.', \"Assistant: Hi there! Jaipur, the Pink City – what a wonderful choice!  You're in for a treat.\\n\\nSo, you want to know about fun things to do?  Well, let's dive in!  A trip to Jaipur wouldn't be complete without exploring its magnificent forts and palaces.  The Amber Fort is a must-see – maybe even take an elephant ride up to it for a truly memorable experience! The City Palace and the stunning Hawa Mahal (Palace of Winds) are equally captivating.\\n\\nWhile you're exploring, remember to wander through the local bazaars – you'll find a treasure trove of traditional Rajasthani crafts.  It's a fantastic place to find unique souvenirs and immerse yourself in the local culture.  And speaking of culture, you can also experience a traditional Rajasthani evening at Chokhi Dhani – it's a great way to get a feel for the local lifestyle and enjoy some delicious food.\\n\\nDon't miss the Jantar Mantar, an incredible astronomical observatory. It's fascinating to see the ancient instruments and learn about their history.  Of course, no trip to Jaipur is complete without indulging in the delicious Rajasthani cuisine!\\n\\nLet me know if you have any other questions. I'm happy to help you plan your amazing Jaipur adventure!\\n\", \"Assistant: Okay, I'm ready to assist you with your travel planning!  Just ask me anything about Indian tourist destinations.\\n\", \"Assistant: Okay, I'm ready to assist you with your travel planning! Just ask me anything about Indian tourist destinations.\\n\", \"User: Query: Tell me about fun things to do in Mysore.\\n\\nContext:\\nDestination: Mysore\\nState: Karnataka\\nDescription: Famous for its royal heritage and the Mysore Palace.\\nTourist Attractions: Mysore Palace, Chamundi Hill, Brindavan Gardens, Mysore Zoo, St. Philomena's Church\\nActivities: Visit the Mysore Palace and Chamundi Hill. Explore the Brindavan Gardens and Mysore Zoo. Shop for silk sarees and sandalwood products. Enjoy local cuisine like Mysore Pak and Dosa. Visit St. Philomena's Church.\\n\\\\Answer: Please provide a warm, conversational response focusing on recreational activities if asked, using the context provided.\", \"Assistant: Hi there! Mysore sounds like a wonderful choice for a trip!  You're going to love it.\\n\\nSo, you're looking for fun things to do?  Well, the Mysore Palace is an absolute must-see – it's breathtaking!  While you're there, a trip up Chamundi Hill offers stunning views of the city.\\n\\nFor some beautiful scenery and relaxing time, head to the Brindavan Gardens. They're absolutely gorgeous.  And if you love animals, the Mysore Zoo is a great place to spend a few hours.  You might even want to check out St. Philomena's Church – it's architecturally stunning.\\n\\nBeyond the major attractions, Mysore offers some fantastic shopping opportunities.  Be sure to look for silk sarees and sandalwood products – they make wonderful souvenirs.  And, of course,  don't forget to try the local cuisine! Mysore Pak and Dosa are local favorites you won't want to miss.\\n\\n\\nLet me know if you have any other questions! I'm happy to help you plan your Mysore adventure!\\n\"]\n",
      "Answer: Hi there! Mysore sounds like a wonderful choice for a trip!  You're going to love it.\n",
      "\n",
      "So, you're looking for fun things to do?  Well, the Mysore Palace is an absolute must-see – it's breathtaking!  While you're there, a trip up Chamundi Hill offers stunning views of the city.\n",
      "\n",
      "For some beautiful scenery and relaxing time, head to the Brindavan Gardens. They're absolutely gorgeous.  And if you love animals, the Mysore Zoo is a great place to spend a few hours.  You might even want to check out St. Philomena's Church – it's architecturally stunning.\n",
      "\n",
      "Beyond the major attractions, Mysore offers some fantastic shopping opportunities.  Be sure to look for silk sarees and sandalwood products – they make wonderful souvenirs.  And, of course,  don't forget to try the local cuisine! Mysore Pak and Dosa are local favorites you won't want to miss.\n",
      "\n",
      "\n",
      "Let me know if you have any other questions! I'm happy to help you plan your Mysore adventure!\n",
      "\n"
     ]
    }
   ],
   "source": [
    "def main():\n",
    "    # query = \"What are the entertaining activities in Vasco da Gama?\"\n",
    "    # relevant_text = get_relevant_chunk(query, collection)\n",
    "    # prompt = make_prompt(query, relevant_text)\n",
    "\n",
    "    # answer = generate_answer(system_message, chat_history, prompt)\n",
    "    # print(\"Answer:\", answer)\n",
    "    \n",
    "    query = \"Tell me about fun things to do in Mysore.\"\n",
    "    relevant_text = get_relevant_chunk(query, collection)\n",
    "    prompt = make_prompt(query, relevant_text)\n",
    "    \n",
    "    answer = generate_answer(system_message, chat_history, prompt)\n",
    "    print(\"Answer:\", answer)\n",
    "\n",
    "\n",
    "if __name__==\"__main__\":\n",
    "    main()"
   ]
  }
 ],
 "metadata": {
  "kernelspec": {
   "display_name": ".venv",
   "language": "python",
   "name": "python3"
  },
  "language_info": {
   "codemirror_mode": {
    "name": "ipython",
    "version": 3
   },
   "file_extension": ".py",
   "mimetype": "text/x-python",
   "name": "python",
   "nbconvert_exporter": "python",
   "pygments_lexer": "ipython3",
   "version": "3.11.5"
  }
 },
 "nbformat": 4,
 "nbformat_minor": 5
}
